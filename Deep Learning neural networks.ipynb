{
 "cells": [
  {
   "cell_type": "markdown",
   "metadata": {},
   "source": [
    "# <center> HEART DISEASE PREDICTION </center>"
   ]
  },
  {
   "cell_type": "markdown",
   "metadata": {},
   "source": [
    "Heart disease prediction using 3 machine learning models.\n",
    "1. Support Vector Machine \n",
    "2. K Nearset Neighbour \n",
    "3. ANN Multilayer Perceptron"
   ]
  },
  {
   "cell_type": "markdown",
   "metadata": {},
   "source": [
    "## DATA DESCRIPTION"
   ]
  },
  {
   "cell_type": "markdown",
   "metadata": {},
   "source": [
    "South Africa Heart Disease Dataset\n",
    "Source:<br>\n",
    "https://web.stanford.edu/~hastie/ElemStatLearn//data.html<br>\n",
    "https://www.openml.org/d/1498\n",
    "\n",
    "\n",
    "A retrospective sample of males in a heart-disease high-risk region of the Western Cape, South Africa. There are roughly two controls per case of CHD. Many of the CHD positive men have undergone blood pressure reduction treatment and other programs to reduce their risk factors after their CHD event. In some cases the measurements were made after these treatments. These data are taken from a larger dataset, described in Rousseauw et al, 1983, South African Medical\n",
    "Journal. \n",
    "\n",
    "Attributes:\n",
    "\n",
    "1. sbp systolic blood pressure \n",
    "2. tobacco cumulative tobacco (kg) \n",
    "3. ldl low densiity lipoprotein cholesterol \n",
    "4. adiposity \n",
    "5. famhist family history of heart disease (Present, Absent) \n",
    "6. typea type-A behavior \n",
    "7. obesity \n",
    "8. alcohol current alcohol consumption \n",
    "9. age age at onset \n",
    "10. chd response, coronary heart disease "
   ]
  },
  {
   "cell_type": "code",
   "execution_count": 27,
   "metadata": {},
   "outputs": [],
   "source": [
    "# Importing primary libraries\n",
    "import pandas as pd\n",
    "import numpy as np\n",
    "import seaborn as sns\n",
    "import matplotlib.pyplot as plt\n",
    "%matplotlib notebook"
   ]
  },
  {
   "cell_type": "markdown",
   "metadata": {},
   "source": [
    "### DATA PREPROCESSING  "
   ]
  },
  {
   "cell_type": "code",
   "execution_count": 28,
   "metadata": {},
   "outputs": [
    {
     "data": {
      "text/plain": [
       "Index(['age', 'sex', 'cp', 'trestbps', 'chol', 'fbs', 'restecg', 'thalach',\n",
       "       'exang', 'oldpeak', 'slope', 'ca', 'thal', 'target'],\n",
       "      dtype='object')"
      ]
     },
     "execution_count": 28,
     "metadata": {},
     "output_type": "execute_result"
    }
   ],
   "source": [
    "# Reading the data \n",
    "data = pd.read_csv('heart.csv')\n",
    "data.columns"
   ]
  },
  {
   "cell_type": "code",
   "execution_count": 29,
   "metadata": {},
   "outputs": [],
   "source": [
    "# Setting up the column\n",
    "column = ['age', 'sex', 'cp', 'trestbps', 'chol', 'fbs', 'restecg', 'thalach','exang', 'oldpeak', 'slope', 'ca', 'thal', 'target']"
   ]
  },
  {
   "cell_type": "code",
   "execution_count": 30,
   "metadata": {},
   "outputs": [],
   "source": [
    "data.columns=column"
   ]
  },
  {
   "cell_type": "code",
   "execution_count": 31,
   "metadata": {
    "scrolled": true
   },
   "outputs": [
    {
     "data": {
      "text/html": [
       "<div>\n",
       "<style scoped>\n",
       "    .dataframe tbody tr th:only-of-type {\n",
       "        vertical-align: middle;\n",
       "    }\n",
       "\n",
       "    .dataframe tbody tr th {\n",
       "        vertical-align: top;\n",
       "    }\n",
       "\n",
       "    .dataframe thead th {\n",
       "        text-align: right;\n",
       "    }\n",
       "</style>\n",
       "<table border=\"1\" class=\"dataframe\">\n",
       "  <thead>\n",
       "    <tr style=\"text-align: right;\">\n",
       "      <th></th>\n",
       "      <th>age</th>\n",
       "      <th>sex</th>\n",
       "      <th>cp</th>\n",
       "      <th>trestbps</th>\n",
       "      <th>chol</th>\n",
       "      <th>fbs</th>\n",
       "      <th>restecg</th>\n",
       "      <th>thalach</th>\n",
       "      <th>exang</th>\n",
       "      <th>oldpeak</th>\n",
       "      <th>slope</th>\n",
       "      <th>ca</th>\n",
       "      <th>thal</th>\n",
       "      <th>target</th>\n",
       "    </tr>\n",
       "  </thead>\n",
       "  <tbody>\n",
       "    <tr>\n",
       "      <th>0</th>\n",
       "      <td>63</td>\n",
       "      <td>1</td>\n",
       "      <td>3</td>\n",
       "      <td>145</td>\n",
       "      <td>233</td>\n",
       "      <td>1</td>\n",
       "      <td>0</td>\n",
       "      <td>150</td>\n",
       "      <td>0</td>\n",
       "      <td>2.3</td>\n",
       "      <td>0</td>\n",
       "      <td>0</td>\n",
       "      <td>1</td>\n",
       "      <td>1</td>\n",
       "    </tr>\n",
       "    <tr>\n",
       "      <th>1</th>\n",
       "      <td>37</td>\n",
       "      <td>1</td>\n",
       "      <td>2</td>\n",
       "      <td>130</td>\n",
       "      <td>250</td>\n",
       "      <td>0</td>\n",
       "      <td>1</td>\n",
       "      <td>187</td>\n",
       "      <td>0</td>\n",
       "      <td>3.5</td>\n",
       "      <td>0</td>\n",
       "      <td>0</td>\n",
       "      <td>2</td>\n",
       "      <td>1</td>\n",
       "    </tr>\n",
       "    <tr>\n",
       "      <th>2</th>\n",
       "      <td>41</td>\n",
       "      <td>0</td>\n",
       "      <td>1</td>\n",
       "      <td>130</td>\n",
       "      <td>204</td>\n",
       "      <td>0</td>\n",
       "      <td>0</td>\n",
       "      <td>172</td>\n",
       "      <td>0</td>\n",
       "      <td>1.4</td>\n",
       "      <td>2</td>\n",
       "      <td>0</td>\n",
       "      <td>2</td>\n",
       "      <td>1</td>\n",
       "    </tr>\n",
       "    <tr>\n",
       "      <th>3</th>\n",
       "      <td>56</td>\n",
       "      <td>1</td>\n",
       "      <td>1</td>\n",
       "      <td>120</td>\n",
       "      <td>236</td>\n",
       "      <td>0</td>\n",
       "      <td>1</td>\n",
       "      <td>178</td>\n",
       "      <td>0</td>\n",
       "      <td>0.8</td>\n",
       "      <td>2</td>\n",
       "      <td>0</td>\n",
       "      <td>2</td>\n",
       "      <td>1</td>\n",
       "    </tr>\n",
       "    <tr>\n",
       "      <th>4</th>\n",
       "      <td>57</td>\n",
       "      <td>0</td>\n",
       "      <td>0</td>\n",
       "      <td>120</td>\n",
       "      <td>354</td>\n",
       "      <td>0</td>\n",
       "      <td>1</td>\n",
       "      <td>163</td>\n",
       "      <td>1</td>\n",
       "      <td>0.6</td>\n",
       "      <td>2</td>\n",
       "      <td>0</td>\n",
       "      <td>2</td>\n",
       "      <td>1</td>\n",
       "    </tr>\n",
       "  </tbody>\n",
       "</table>\n",
       "</div>"
      ],
      "text/plain": [
       "   age  sex  cp  trestbps  chol  fbs  restecg  thalach  exang  oldpeak  slope  \\\n",
       "0   63    1   3       145   233    1        0      150      0      2.3      0   \n",
       "1   37    1   2       130   250    0        1      187      0      3.5      0   \n",
       "2   41    0   1       130   204    0        0      172      0      1.4      2   \n",
       "3   56    1   1       120   236    0        1      178      0      0.8      2   \n",
       "4   57    0   0       120   354    0        1      163      1      0.6      2   \n",
       "\n",
       "   ca  thal  target  \n",
       "0   0     1       1  \n",
       "1   0     2       1  \n",
       "2   0     2       1  \n",
       "3   0     2       1  \n",
       "4   0     2       1  "
      ]
     },
     "execution_count": 31,
     "metadata": {},
     "output_type": "execute_result"
    }
   ],
   "source": [
    "data.head()"
   ]
  },
  {
   "cell_type": "code",
   "execution_count": 32,
   "metadata": {},
   "outputs": [
    {
     "data": {
      "text/html": [
       "<div>\n",
       "<style scoped>\n",
       "    .dataframe tbody tr th:only-of-type {\n",
       "        vertical-align: middle;\n",
       "    }\n",
       "\n",
       "    .dataframe tbody tr th {\n",
       "        vertical-align: top;\n",
       "    }\n",
       "\n",
       "    .dataframe thead th {\n",
       "        text-align: right;\n",
       "    }\n",
       "</style>\n",
       "<table border=\"1\" class=\"dataframe\">\n",
       "  <thead>\n",
       "    <tr style=\"text-align: right;\">\n",
       "      <th></th>\n",
       "      <th>age</th>\n",
       "      <th>sex</th>\n",
       "      <th>cp</th>\n",
       "      <th>trestbps</th>\n",
       "      <th>chol</th>\n",
       "      <th>fbs</th>\n",
       "      <th>restecg</th>\n",
       "      <th>thalach</th>\n",
       "      <th>exang</th>\n",
       "      <th>oldpeak</th>\n",
       "      <th>slope</th>\n",
       "      <th>ca</th>\n",
       "      <th>thal</th>\n",
       "      <th>target</th>\n",
       "    </tr>\n",
       "  </thead>\n",
       "  <tbody>\n",
       "    <tr>\n",
       "      <th>count</th>\n",
       "      <td>303.000000</td>\n",
       "      <td>303.000000</td>\n",
       "      <td>303.000000</td>\n",
       "      <td>303.000000</td>\n",
       "      <td>303.000000</td>\n",
       "      <td>303.000000</td>\n",
       "      <td>303.000000</td>\n",
       "      <td>303.000000</td>\n",
       "      <td>303.000000</td>\n",
       "      <td>303.000000</td>\n",
       "      <td>303.000000</td>\n",
       "      <td>303.000000</td>\n",
       "      <td>303.000000</td>\n",
       "      <td>303.000000</td>\n",
       "    </tr>\n",
       "    <tr>\n",
       "      <th>mean</th>\n",
       "      <td>54.366337</td>\n",
       "      <td>0.683168</td>\n",
       "      <td>0.966997</td>\n",
       "      <td>131.623762</td>\n",
       "      <td>246.264026</td>\n",
       "      <td>0.148515</td>\n",
       "      <td>0.528053</td>\n",
       "      <td>149.646865</td>\n",
       "      <td>0.326733</td>\n",
       "      <td>1.039604</td>\n",
       "      <td>1.399340</td>\n",
       "      <td>0.729373</td>\n",
       "      <td>2.313531</td>\n",
       "      <td>0.544554</td>\n",
       "    </tr>\n",
       "    <tr>\n",
       "      <th>std</th>\n",
       "      <td>9.082101</td>\n",
       "      <td>0.466011</td>\n",
       "      <td>1.032052</td>\n",
       "      <td>17.538143</td>\n",
       "      <td>51.830751</td>\n",
       "      <td>0.356198</td>\n",
       "      <td>0.525860</td>\n",
       "      <td>22.905161</td>\n",
       "      <td>0.469794</td>\n",
       "      <td>1.161075</td>\n",
       "      <td>0.616226</td>\n",
       "      <td>1.022606</td>\n",
       "      <td>0.612277</td>\n",
       "      <td>0.498835</td>\n",
       "    </tr>\n",
       "    <tr>\n",
       "      <th>min</th>\n",
       "      <td>29.000000</td>\n",
       "      <td>0.000000</td>\n",
       "      <td>0.000000</td>\n",
       "      <td>94.000000</td>\n",
       "      <td>126.000000</td>\n",
       "      <td>0.000000</td>\n",
       "      <td>0.000000</td>\n",
       "      <td>71.000000</td>\n",
       "      <td>0.000000</td>\n",
       "      <td>0.000000</td>\n",
       "      <td>0.000000</td>\n",
       "      <td>0.000000</td>\n",
       "      <td>0.000000</td>\n",
       "      <td>0.000000</td>\n",
       "    </tr>\n",
       "    <tr>\n",
       "      <th>25%</th>\n",
       "      <td>47.500000</td>\n",
       "      <td>0.000000</td>\n",
       "      <td>0.000000</td>\n",
       "      <td>120.000000</td>\n",
       "      <td>211.000000</td>\n",
       "      <td>0.000000</td>\n",
       "      <td>0.000000</td>\n",
       "      <td>133.500000</td>\n",
       "      <td>0.000000</td>\n",
       "      <td>0.000000</td>\n",
       "      <td>1.000000</td>\n",
       "      <td>0.000000</td>\n",
       "      <td>2.000000</td>\n",
       "      <td>0.000000</td>\n",
       "    </tr>\n",
       "    <tr>\n",
       "      <th>50%</th>\n",
       "      <td>55.000000</td>\n",
       "      <td>1.000000</td>\n",
       "      <td>1.000000</td>\n",
       "      <td>130.000000</td>\n",
       "      <td>240.000000</td>\n",
       "      <td>0.000000</td>\n",
       "      <td>1.000000</td>\n",
       "      <td>153.000000</td>\n",
       "      <td>0.000000</td>\n",
       "      <td>0.800000</td>\n",
       "      <td>1.000000</td>\n",
       "      <td>0.000000</td>\n",
       "      <td>2.000000</td>\n",
       "      <td>1.000000</td>\n",
       "    </tr>\n",
       "    <tr>\n",
       "      <th>75%</th>\n",
       "      <td>61.000000</td>\n",
       "      <td>1.000000</td>\n",
       "      <td>2.000000</td>\n",
       "      <td>140.000000</td>\n",
       "      <td>274.500000</td>\n",
       "      <td>0.000000</td>\n",
       "      <td>1.000000</td>\n",
       "      <td>166.000000</td>\n",
       "      <td>1.000000</td>\n",
       "      <td>1.600000</td>\n",
       "      <td>2.000000</td>\n",
       "      <td>1.000000</td>\n",
       "      <td>3.000000</td>\n",
       "      <td>1.000000</td>\n",
       "    </tr>\n",
       "    <tr>\n",
       "      <th>max</th>\n",
       "      <td>77.000000</td>\n",
       "      <td>1.000000</td>\n",
       "      <td>3.000000</td>\n",
       "      <td>200.000000</td>\n",
       "      <td>564.000000</td>\n",
       "      <td>1.000000</td>\n",
       "      <td>2.000000</td>\n",
       "      <td>202.000000</td>\n",
       "      <td>1.000000</td>\n",
       "      <td>6.200000</td>\n",
       "      <td>2.000000</td>\n",
       "      <td>4.000000</td>\n",
       "      <td>3.000000</td>\n",
       "      <td>1.000000</td>\n",
       "    </tr>\n",
       "  </tbody>\n",
       "</table>\n",
       "</div>"
      ],
      "text/plain": [
       "              age         sex          cp    trestbps        chol         fbs  \\\n",
       "count  303.000000  303.000000  303.000000  303.000000  303.000000  303.000000   \n",
       "mean    54.366337    0.683168    0.966997  131.623762  246.264026    0.148515   \n",
       "std      9.082101    0.466011    1.032052   17.538143   51.830751    0.356198   \n",
       "min     29.000000    0.000000    0.000000   94.000000  126.000000    0.000000   \n",
       "25%     47.500000    0.000000    0.000000  120.000000  211.000000    0.000000   \n",
       "50%     55.000000    1.000000    1.000000  130.000000  240.000000    0.000000   \n",
       "75%     61.000000    1.000000    2.000000  140.000000  274.500000    0.000000   \n",
       "max     77.000000    1.000000    3.000000  200.000000  564.000000    1.000000   \n",
       "\n",
       "          restecg     thalach       exang     oldpeak       slope          ca  \\\n",
       "count  303.000000  303.000000  303.000000  303.000000  303.000000  303.000000   \n",
       "mean     0.528053  149.646865    0.326733    1.039604    1.399340    0.729373   \n",
       "std      0.525860   22.905161    0.469794    1.161075    0.616226    1.022606   \n",
       "min      0.000000   71.000000    0.000000    0.000000    0.000000    0.000000   \n",
       "25%      0.000000  133.500000    0.000000    0.000000    1.000000    0.000000   \n",
       "50%      1.000000  153.000000    0.000000    0.800000    1.000000    0.000000   \n",
       "75%      1.000000  166.000000    1.000000    1.600000    2.000000    1.000000   \n",
       "max      2.000000  202.000000    1.000000    6.200000    2.000000    4.000000   \n",
       "\n",
       "             thal      target  \n",
       "count  303.000000  303.000000  \n",
       "mean     2.313531    0.544554  \n",
       "std      0.612277    0.498835  \n",
       "min      0.000000    0.000000  \n",
       "25%      2.000000    0.000000  \n",
       "50%      2.000000    1.000000  \n",
       "75%      3.000000    1.000000  \n",
       "max      3.000000    1.000000  "
      ]
     },
     "execution_count": 32,
     "metadata": {},
     "output_type": "execute_result"
    }
   ],
   "source": [
    "data.describe()"
   ]
  },
  {
   "cell_type": "markdown",
   "metadata": {},
   "source": [
    "Describes the statistical data insights"
   ]
  },
  {
   "cell_type": "code",
   "execution_count": 33,
   "metadata": {},
   "outputs": [
    {
     "data": {
      "text/plain": [
       "age         0\n",
       "sex         0\n",
       "cp          0\n",
       "trestbps    0\n",
       "chol        0\n",
       "fbs         0\n",
       "restecg     0\n",
       "thalach     0\n",
       "exang       0\n",
       "oldpeak     0\n",
       "slope       0\n",
       "ca          0\n",
       "thal        0\n",
       "target      0\n",
       "dtype: int64"
      ]
     },
     "execution_count": 33,
     "metadata": {},
     "output_type": "execute_result"
    }
   ],
   "source": [
    "# Checking for any missing values \n",
    "data.isnull().sum()"
   ]
  },
  {
   "cell_type": "markdown",
   "metadata": {},
   "source": [
    "The values shown are 0, therefore no missing values in the DataFrame"
   ]
  },
  {
   "cell_type": "markdown",
   "metadata": {},
   "source": [
    "Data preprocessing is complete,\n",
    "implementing the models"
   ]
  },
  {
   "cell_type": "code",
   "execution_count": 34,
   "metadata": {},
   "outputs": [],
   "source": [
    "X = data.iloc[:,0:13].values#not including target\n",
    "y = data.iloc[:,13].values"
   ]
  },
  {
   "cell_type": "code",
   "execution_count": 35,
   "metadata": {},
   "outputs": [
    {
     "data": {
      "text/html": [
       "<div>\n",
       "<style scoped>\n",
       "    .dataframe tbody tr th:only-of-type {\n",
       "        vertical-align: middle;\n",
       "    }\n",
       "\n",
       "    .dataframe tbody tr th {\n",
       "        vertical-align: top;\n",
       "    }\n",
       "\n",
       "    .dataframe thead th {\n",
       "        text-align: right;\n",
       "    }\n",
       "</style>\n",
       "<table border=\"1\" class=\"dataframe\">\n",
       "  <thead>\n",
       "    <tr style=\"text-align: right;\">\n",
       "      <th></th>\n",
       "      <th>age</th>\n",
       "      <th>sex</th>\n",
       "      <th>cp</th>\n",
       "      <th>trestbps</th>\n",
       "      <th>chol</th>\n",
       "      <th>fbs</th>\n",
       "      <th>restecg</th>\n",
       "      <th>thalach</th>\n",
       "      <th>exang</th>\n",
       "      <th>oldpeak</th>\n",
       "      <th>slope</th>\n",
       "      <th>ca</th>\n",
       "      <th>thal</th>\n",
       "    </tr>\n",
       "  </thead>\n",
       "  <tbody>\n",
       "    <tr>\n",
       "      <th>0</th>\n",
       "      <td>0.952197</td>\n",
       "      <td>0.681005</td>\n",
       "      <td>1.973123</td>\n",
       "      <td>0.763956</td>\n",
       "      <td>-0.256334</td>\n",
       "      <td>2.394438</td>\n",
       "      <td>-1.005832</td>\n",
       "      <td>0.015443</td>\n",
       "      <td>-0.696631</td>\n",
       "      <td>1.087338</td>\n",
       "      <td>-2.274579</td>\n",
       "      <td>-0.714429</td>\n",
       "      <td>-2.148873</td>\n",
       "    </tr>\n",
       "    <tr>\n",
       "      <th>1</th>\n",
       "      <td>-1.915313</td>\n",
       "      <td>0.681005</td>\n",
       "      <td>1.002577</td>\n",
       "      <td>-0.092738</td>\n",
       "      <td>0.072199</td>\n",
       "      <td>-0.417635</td>\n",
       "      <td>0.898962</td>\n",
       "      <td>1.633471</td>\n",
       "      <td>-0.696631</td>\n",
       "      <td>2.122573</td>\n",
       "      <td>-2.274579</td>\n",
       "      <td>-0.714429</td>\n",
       "      <td>-0.512922</td>\n",
       "    </tr>\n",
       "    <tr>\n",
       "      <th>2</th>\n",
       "      <td>-1.474158</td>\n",
       "      <td>-1.468418</td>\n",
       "      <td>0.032031</td>\n",
       "      <td>-0.092738</td>\n",
       "      <td>-0.816773</td>\n",
       "      <td>-0.417635</td>\n",
       "      <td>-1.005832</td>\n",
       "      <td>0.977514</td>\n",
       "      <td>-0.696631</td>\n",
       "      <td>0.310912</td>\n",
       "      <td>0.976352</td>\n",
       "      <td>-0.714429</td>\n",
       "      <td>-0.512922</td>\n",
       "    </tr>\n",
       "    <tr>\n",
       "      <th>3</th>\n",
       "      <td>0.180175</td>\n",
       "      <td>0.681005</td>\n",
       "      <td>0.032031</td>\n",
       "      <td>-0.663867</td>\n",
       "      <td>-0.198357</td>\n",
       "      <td>-0.417635</td>\n",
       "      <td>0.898962</td>\n",
       "      <td>1.239897</td>\n",
       "      <td>-0.696631</td>\n",
       "      <td>-0.206705</td>\n",
       "      <td>0.976352</td>\n",
       "      <td>-0.714429</td>\n",
       "      <td>-0.512922</td>\n",
       "    </tr>\n",
       "    <tr>\n",
       "      <th>4</th>\n",
       "      <td>0.290464</td>\n",
       "      <td>-1.468418</td>\n",
       "      <td>-0.938515</td>\n",
       "      <td>-0.663867</td>\n",
       "      <td>2.082050</td>\n",
       "      <td>-0.417635</td>\n",
       "      <td>0.898962</td>\n",
       "      <td>0.583939</td>\n",
       "      <td>1.435481</td>\n",
       "      <td>-0.379244</td>\n",
       "      <td>0.976352</td>\n",
       "      <td>-0.714429</td>\n",
       "      <td>-0.512922</td>\n",
       "    </tr>\n",
       "  </tbody>\n",
       "</table>\n",
       "</div>"
      ],
      "text/plain": [
       "        age       sex        cp  trestbps      chol       fbs   restecg  \\\n",
       "0  0.952197  0.681005  1.973123  0.763956 -0.256334  2.394438 -1.005832   \n",
       "1 -1.915313  0.681005  1.002577 -0.092738  0.072199 -0.417635  0.898962   \n",
       "2 -1.474158 -1.468418  0.032031 -0.092738 -0.816773 -0.417635 -1.005832   \n",
       "3  0.180175  0.681005  0.032031 -0.663867 -0.198357 -0.417635  0.898962   \n",
       "4  0.290464 -1.468418 -0.938515 -0.663867  2.082050 -0.417635  0.898962   \n",
       "\n",
       "    thalach     exang   oldpeak     slope        ca      thal  \n",
       "0  0.015443 -0.696631  1.087338 -2.274579 -0.714429 -2.148873  \n",
       "1  1.633471 -0.696631  2.122573 -2.274579 -0.714429 -0.512922  \n",
       "2  0.977514 -0.696631  0.310912  0.976352 -0.714429 -0.512922  \n",
       "3  1.239897 -0.696631 -0.206705  0.976352 -0.714429 -0.512922  \n",
       "4  0.583939  1.435481 -0.379244  0.976352 -0.714429 -0.512922  "
      ]
     },
     "execution_count": 35,
     "metadata": {},
     "output_type": "execute_result"
    }
   ],
   "source": [
    "#normalize the my whole data into o to 1 range\n",
    "\n",
    "from sklearn.preprocessing import StandardScaler\n",
    "X_std = StandardScaler().fit_transform(X)\n",
    "\n",
    "dfNorm = pd.DataFrame(X_std, index=data.index, columns=data.columns[0:13])\n",
    "dfNorm.head()"
   ]
  },
  {
   "cell_type": "code",
   "execution_count": 36,
   "metadata": {},
   "outputs": [
    {
     "data": {
      "text/html": [
       "<div>\n",
       "<style scoped>\n",
       "    .dataframe tbody tr th:only-of-type {\n",
       "        vertical-align: middle;\n",
       "    }\n",
       "\n",
       "    .dataframe tbody tr th {\n",
       "        vertical-align: top;\n",
       "    }\n",
       "\n",
       "    .dataframe thead th {\n",
       "        text-align: right;\n",
       "    }\n",
       "</style>\n",
       "<table border=\"1\" class=\"dataframe\">\n",
       "  <thead>\n",
       "    <tr style=\"text-align: right;\">\n",
       "      <th></th>\n",
       "      <th>age</th>\n",
       "      <th>sex</th>\n",
       "      <th>cp</th>\n",
       "      <th>trestbps</th>\n",
       "      <th>chol</th>\n",
       "      <th>fbs</th>\n",
       "      <th>restecg</th>\n",
       "      <th>thalach</th>\n",
       "      <th>exang</th>\n",
       "      <th>oldpeak</th>\n",
       "      <th>slope</th>\n",
       "      <th>ca</th>\n",
       "      <th>thal</th>\n",
       "      <th>target</th>\n",
       "    </tr>\n",
       "  </thead>\n",
       "  <tbody>\n",
       "    <tr>\n",
       "      <th>0</th>\n",
       "      <td>0.952197</td>\n",
       "      <td>0.681005</td>\n",
       "      <td>1.973123</td>\n",
       "      <td>0.763956</td>\n",
       "      <td>-0.256334</td>\n",
       "      <td>2.394438</td>\n",
       "      <td>-1.005832</td>\n",
       "      <td>0.015443</td>\n",
       "      <td>-0.696631</td>\n",
       "      <td>1.087338</td>\n",
       "      <td>-2.274579</td>\n",
       "      <td>-0.714429</td>\n",
       "      <td>-2.148873</td>\n",
       "      <td>1</td>\n",
       "    </tr>\n",
       "    <tr>\n",
       "      <th>1</th>\n",
       "      <td>-1.915313</td>\n",
       "      <td>0.681005</td>\n",
       "      <td>1.002577</td>\n",
       "      <td>-0.092738</td>\n",
       "      <td>0.072199</td>\n",
       "      <td>-0.417635</td>\n",
       "      <td>0.898962</td>\n",
       "      <td>1.633471</td>\n",
       "      <td>-0.696631</td>\n",
       "      <td>2.122573</td>\n",
       "      <td>-2.274579</td>\n",
       "      <td>-0.714429</td>\n",
       "      <td>-0.512922</td>\n",
       "      <td>1</td>\n",
       "    </tr>\n",
       "    <tr>\n",
       "      <th>2</th>\n",
       "      <td>-1.474158</td>\n",
       "      <td>-1.468418</td>\n",
       "      <td>0.032031</td>\n",
       "      <td>-0.092738</td>\n",
       "      <td>-0.816773</td>\n",
       "      <td>-0.417635</td>\n",
       "      <td>-1.005832</td>\n",
       "      <td>0.977514</td>\n",
       "      <td>-0.696631</td>\n",
       "      <td>0.310912</td>\n",
       "      <td>0.976352</td>\n",
       "      <td>-0.714429</td>\n",
       "      <td>-0.512922</td>\n",
       "      <td>1</td>\n",
       "    </tr>\n",
       "    <tr>\n",
       "      <th>3</th>\n",
       "      <td>0.180175</td>\n",
       "      <td>0.681005</td>\n",
       "      <td>0.032031</td>\n",
       "      <td>-0.663867</td>\n",
       "      <td>-0.198357</td>\n",
       "      <td>-0.417635</td>\n",
       "      <td>0.898962</td>\n",
       "      <td>1.239897</td>\n",
       "      <td>-0.696631</td>\n",
       "      <td>-0.206705</td>\n",
       "      <td>0.976352</td>\n",
       "      <td>-0.714429</td>\n",
       "      <td>-0.512922</td>\n",
       "      <td>1</td>\n",
       "    </tr>\n",
       "    <tr>\n",
       "      <th>4</th>\n",
       "      <td>0.290464</td>\n",
       "      <td>-1.468418</td>\n",
       "      <td>-0.938515</td>\n",
       "      <td>-0.663867</td>\n",
       "      <td>2.082050</td>\n",
       "      <td>-0.417635</td>\n",
       "      <td>0.898962</td>\n",
       "      <td>0.583939</td>\n",
       "      <td>1.435481</td>\n",
       "      <td>-0.379244</td>\n",
       "      <td>0.976352</td>\n",
       "      <td>-0.714429</td>\n",
       "      <td>-0.512922</td>\n",
       "      <td>1</td>\n",
       "    </tr>\n",
       "    <tr>\n",
       "      <th>5</th>\n",
       "      <td>0.290464</td>\n",
       "      <td>0.681005</td>\n",
       "      <td>-0.938515</td>\n",
       "      <td>0.478391</td>\n",
       "      <td>-1.048678</td>\n",
       "      <td>-0.417635</td>\n",
       "      <td>0.898962</td>\n",
       "      <td>-0.072018</td>\n",
       "      <td>-0.696631</td>\n",
       "      <td>-0.551783</td>\n",
       "      <td>-0.649113</td>\n",
       "      <td>-0.714429</td>\n",
       "      <td>-2.148873</td>\n",
       "      <td>1</td>\n",
       "    </tr>\n",
       "    <tr>\n",
       "      <th>6</th>\n",
       "      <td>0.180175</td>\n",
       "      <td>-1.468418</td>\n",
       "      <td>0.032031</td>\n",
       "      <td>0.478391</td>\n",
       "      <td>0.922521</td>\n",
       "      <td>-0.417635</td>\n",
       "      <td>-1.005832</td>\n",
       "      <td>0.146634</td>\n",
       "      <td>-0.696631</td>\n",
       "      <td>0.224643</td>\n",
       "      <td>-0.649113</td>\n",
       "      <td>-0.714429</td>\n",
       "      <td>-0.512922</td>\n",
       "      <td>1</td>\n",
       "    </tr>\n",
       "    <tr>\n",
       "      <th>7</th>\n",
       "      <td>-1.143291</td>\n",
       "      <td>0.681005</td>\n",
       "      <td>0.032031</td>\n",
       "      <td>-0.663867</td>\n",
       "      <td>0.323431</td>\n",
       "      <td>-0.417635</td>\n",
       "      <td>0.898962</td>\n",
       "      <td>1.021244</td>\n",
       "      <td>-0.696631</td>\n",
       "      <td>-0.896862</td>\n",
       "      <td>0.976352</td>\n",
       "      <td>-0.714429</td>\n",
       "      <td>1.123029</td>\n",
       "      <td>1</td>\n",
       "    </tr>\n",
       "    <tr>\n",
       "      <th>8</th>\n",
       "      <td>-0.260980</td>\n",
       "      <td>0.681005</td>\n",
       "      <td>1.002577</td>\n",
       "      <td>2.306004</td>\n",
       "      <td>-0.913400</td>\n",
       "      <td>2.394438</td>\n",
       "      <td>0.898962</td>\n",
       "      <td>0.540209</td>\n",
       "      <td>-0.696631</td>\n",
       "      <td>-0.465514</td>\n",
       "      <td>0.976352</td>\n",
       "      <td>-0.714429</td>\n",
       "      <td>1.123029</td>\n",
       "      <td>1</td>\n",
       "    </tr>\n",
       "    <tr>\n",
       "      <th>9</th>\n",
       "      <td>0.290464</td>\n",
       "      <td>0.681005</td>\n",
       "      <td>1.002577</td>\n",
       "      <td>1.049520</td>\n",
       "      <td>-1.512490</td>\n",
       "      <td>-0.417635</td>\n",
       "      <td>0.898962</td>\n",
       "      <td>1.064975</td>\n",
       "      <td>-0.696631</td>\n",
       "      <td>0.483451</td>\n",
       "      <td>0.976352</td>\n",
       "      <td>-0.714429</td>\n",
       "      <td>-0.512922</td>\n",
       "      <td>1</td>\n",
       "    </tr>\n",
       "  </tbody>\n",
       "</table>\n",
       "</div>"
      ],
      "text/plain": [
       "        age       sex        cp  trestbps      chol       fbs   restecg  \\\n",
       "0  0.952197  0.681005  1.973123  0.763956 -0.256334  2.394438 -1.005832   \n",
       "1 -1.915313  0.681005  1.002577 -0.092738  0.072199 -0.417635  0.898962   \n",
       "2 -1.474158 -1.468418  0.032031 -0.092738 -0.816773 -0.417635 -1.005832   \n",
       "3  0.180175  0.681005  0.032031 -0.663867 -0.198357 -0.417635  0.898962   \n",
       "4  0.290464 -1.468418 -0.938515 -0.663867  2.082050 -0.417635  0.898962   \n",
       "5  0.290464  0.681005 -0.938515  0.478391 -1.048678 -0.417635  0.898962   \n",
       "6  0.180175 -1.468418  0.032031  0.478391  0.922521 -0.417635 -1.005832   \n",
       "7 -1.143291  0.681005  0.032031 -0.663867  0.323431 -0.417635  0.898962   \n",
       "8 -0.260980  0.681005  1.002577  2.306004 -0.913400  2.394438  0.898962   \n",
       "9  0.290464  0.681005  1.002577  1.049520 -1.512490 -0.417635  0.898962   \n",
       "\n",
       "    thalach     exang   oldpeak     slope        ca      thal  target  \n",
       "0  0.015443 -0.696631  1.087338 -2.274579 -0.714429 -2.148873       1  \n",
       "1  1.633471 -0.696631  2.122573 -2.274579 -0.714429 -0.512922       1  \n",
       "2  0.977514 -0.696631  0.310912  0.976352 -0.714429 -0.512922       1  \n",
       "3  1.239897 -0.696631 -0.206705  0.976352 -0.714429 -0.512922       1  \n",
       "4  0.583939  1.435481 -0.379244  0.976352 -0.714429 -0.512922       1  \n",
       "5 -0.072018 -0.696631 -0.551783 -0.649113 -0.714429 -2.148873       1  \n",
       "6  0.146634 -0.696631  0.224643 -0.649113 -0.714429 -0.512922       1  \n",
       "7  1.021244 -0.696631 -0.896862  0.976352 -0.714429  1.123029       1  \n",
       "8  0.540209 -0.696631 -0.465514  0.976352 -0.714429  1.123029       1  \n",
       "9  1.064975 -0.696631  0.483451  0.976352 -0.714429 -0.512922       1  "
      ]
     },
     "execution_count": 36,
     "metadata": {},
     "output_type": "execute_result"
    }
   ],
   "source": [
    "# # add non-feature target column to dataframe\n",
    "dfNorm['target'] = data['target']\n",
    "\n",
    "\n",
    "X = dfNorm.iloc[:,0:13].values\n",
    "y = dfNorm.iloc[:,13].values\n",
    "dfNorm.head(10)"
   ]
  },
  {
   "cell_type": "code",
   "execution_count": 37,
   "metadata": {},
   "outputs": [
    {
     "data": {
      "text/plain": [
       "((212, 13), (212,), (91, 13), (91,))"
      ]
     },
     "execution_count": 37,
     "metadata": {},
     "output_type": "execute_result"
    }
   ],
   "source": [
    "#split into testing and training dataset\n",
    "from sklearn.model_selection import train_test_split\n",
    "X_train, X_test, y_train, y_test = train_test_split(X, y, test_size=0.3, random_state=0)\n",
    "\n",
    "X_train.shape, y_train.shape, X_test.shape , y_test.shape"
   ]
  },
  {
   "cell_type": "code",
   "execution_count": null,
   "metadata": {},
   "outputs": [],
   "source": []
  },
  {
   "cell_type": "code",
   "execution_count": null,
   "metadata": {},
   "outputs": [],
   "source": []
  },
  {
   "cell_type": "code",
   "execution_count": null,
   "metadata": {},
   "outputs": [],
   "source": []
  },
  {
   "cell_type": "code",
   "execution_count": null,
   "metadata": {},
   "outputs": [],
   "source": []
  },
  {
   "cell_type": "code",
   "execution_count": null,
   "metadata": {},
   "outputs": [],
   "source": []
  },
  {
   "cell_type": "code",
   "execution_count": null,
   "metadata": {},
   "outputs": [],
   "source": []
  },
  {
   "cell_type": "markdown",
   "metadata": {},
   "source": [
    "# <center> MODEL 1 - Support Vector Machine</center>"
   ]
  },
  {
   "cell_type": "markdown",
   "metadata": {},
   "source": [
    "A Support Vector Machine (SVM) is a discriminative classifier formally defined by a separating hyperplane. In other words, given labeled training data (supervised learning), the algorithm outputs an optimal hyperplane which categorizes new examples.<br>\n",
    "Description : https://en.wikipedia.org/wiki/Support_vector_machine <br>\n",
    "Kernel used : Linear<br>\n",
    "Degree =3<br>\n",
    "Gamma = Auto"
   ]
  },
  {
   "cell_type": "code",
   "execution_count": 12,
   "metadata": {},
   "outputs": [],
   "source": [
    "from sklearn import svm\n",
    "svm_clf = svm.SVC(kernel ='linear')"
   ]
  },
  {
   "cell_type": "code",
   "execution_count": 13,
   "metadata": {},
   "outputs": [
    {
     "data": {
      "text/plain": [
       "SVC(C=1.0, cache_size=200, class_weight=None, coef0=0.0,\n",
       "    decision_function_shape='ovr', degree=3, gamma='auto_deprecated',\n",
       "    kernel='linear', max_iter=-1, probability=False, random_state=None,\n",
       "    shrinking=True, tol=0.001, verbose=False)"
      ]
     },
     "execution_count": 13,
     "metadata": {},
     "output_type": "execute_result"
    }
   ],
   "source": [
    "svm_clf.fit(X_train,y_train)"
   ]
  },
  {
   "cell_type": "code",
   "execution_count": 14,
   "metadata": {},
   "outputs": [],
   "source": [
    "y_pred_svm =svm_clf.predict(X_test)"
   ]
  },
  {
   "cell_type": "code",
   "execution_count": 15,
   "metadata": {},
   "outputs": [
    {
     "data": {
      "text/plain": [
       "array([0, 1, 1, 0, 0, 1, 0, 0, 0, 0, 1, 1, 0, 1, 1, 1, 0, 1, 0, 1, 1, 0,\n",
       "       0, 0, 1, 1, 0, 0, 1, 1, 1, 0, 1, 1, 1, 1, 0, 1, 0, 0, 1, 1, 0, 0,\n",
       "       0, 1, 1, 1, 0, 1, 1, 1, 1, 1, 1, 0, 1, 1, 1, 1, 1, 1, 1, 1, 1, 1,\n",
       "       1, 0, 1, 1, 1, 1, 1, 0, 0, 1, 0, 1, 1, 0, 0, 0, 0, 1, 0, 1, 0, 1,\n",
       "       1, 0, 0], dtype=int64)"
      ]
     },
     "execution_count": 15,
     "metadata": {},
     "output_type": "execute_result"
    }
   ],
   "source": [
    "y_pred_svm"
   ]
  },
  {
   "cell_type": "code",
   "execution_count": 16,
   "metadata": {},
   "outputs": [
    {
     "data": {
      "text/plain": [
       "array([[31, 13],\n",
       "       [ 5, 42]], dtype=int64)"
      ]
     },
     "execution_count": 16,
     "metadata": {},
     "output_type": "execute_result"
    }
   ],
   "source": [
    "# Making the Confusion Matrix\n",
    "from sklearn.metrics import confusion_matrix\n",
    "cm_svm = confusion_matrix(y_test, y_pred_svm)\n",
    "cm_svm"
   ]
  },
  {
   "cell_type": "code",
   "execution_count": 17,
   "metadata": {},
   "outputs": [
    {
     "name": "stdout",
     "output_type": "stream",
     "text": [
      "Accuracy : 0.8021978021978022\n"
     ]
    }
   ],
   "source": [
    "from sklearn.metrics import accuracy_score\n",
    "svm_result = accuracy_score(y_test,y_pred_svm)\n",
    "print(\"Accuracy :\",svm_result)"
   ]
  },
  {
   "cell_type": "code",
   "execution_count": 18,
   "metadata": {},
   "outputs": [
    {
     "data": {
      "text/plain": [
       "(0.7045454545454546, 0.4246575342465753)"
      ]
     },
     "execution_count": 18,
     "metadata": {},
     "output_type": "execute_result"
    }
   ],
   "source": [
    "recall_svm = cm_svm[0][0]/(cm_svm[0][0] + cm_svm[0][1])\n",
    "precision_svm = cm_svm[0][0]/(cm_svm[0][0]+cm_svm[1][1])\n",
    "recall_svm,precision_svm"
   ]
  },
  {
   "cell_type": "markdown",
   "metadata": {},
   "source": [
    "## Accuracy : 0.802\n",
    "## Recall : 0.704\n",
    "## Precision : 0.4246"
   ]
  },
  {
   "cell_type": "markdown",
   "metadata": {},
   "source": [
    "# <center> MODEL 2 - K Nearest Neighbour</center>"
   ]
  },
  {
   "cell_type": "markdown",
   "metadata": {},
   "source": [
    "In pattern recognition, the k-nearest neighbors algorithm (k-NN) is a non-parametric method used for classification and regression. In both cases, the input consists of the k closest training examples in the feature space. ... In k-NN classification, the output is a class membership.<br>\n",
    "Description : https://en.wikipedia.org/wiki/K-nearest_neighbors_algorithm<br>\n",
    "Neighbors =5<br>\n",
    "N jobs = No of cores ,-1<br>\n",
    "Leaf size =60<br>\n",
    "Algorithm = Brute"
   ]
  },
  {
   "cell_type": "code",
   "execution_count": 19,
   "metadata": {},
   "outputs": [],
   "source": [
    "from sklearn.neighbors import KNeighborsClassifier\n",
    "knn_clf = KNeighborsClassifier(n_neighbors =5,n_jobs = -1,leaf_size = 60,algorithm='brute')"
   ]
  },
  {
   "cell_type": "code",
   "execution_count": 20,
   "metadata": {},
   "outputs": [
    {
     "data": {
      "text/plain": [
       "KNeighborsClassifier(algorithm='brute', leaf_size=60, metric='minkowski',\n",
       "                     metric_params=None, n_jobs=-1, n_neighbors=5, p=2,\n",
       "                     weights='uniform')"
      ]
     },
     "execution_count": 20,
     "metadata": {},
     "output_type": "execute_result"
    }
   ],
   "source": [
    "knn_clf.fit(X_train,y_train)"
   ]
  },
  {
   "cell_type": "code",
   "execution_count": 21,
   "metadata": {},
   "outputs": [
    {
     "data": {
      "text/plain": [
       "array([0, 1, 1, 0, 0, 1, 0, 0, 0, 0, 1, 1, 0, 1, 1, 1, 0, 1, 0, 1, 1, 0,\n",
       "       0, 0, 1, 1, 0, 0, 1, 1, 0, 0, 1, 1, 1, 1, 0, 1, 0, 1, 1, 1, 1, 0,\n",
       "       1, 1, 1, 0, 0, 1, 1, 1, 1, 1, 1, 0, 1, 1, 1, 1, 1, 1, 1, 1, 1, 1,\n",
       "       1, 0, 1, 1, 1, 1, 1, 0, 0, 1, 0, 1, 1, 0, 0, 0, 0, 1, 0, 0, 0, 1,\n",
       "       0, 1, 0], dtype=int64)"
      ]
     },
     "execution_count": 21,
     "metadata": {},
     "output_type": "execute_result"
    }
   ],
   "source": [
    "y_pred_knn = knn_clf.predict(X_test)\n",
    "y_pred_knn"
   ]
  },
  {
   "cell_type": "code",
   "execution_count": 22,
   "metadata": {},
   "outputs": [
    {
     "data": {
      "text/plain": [
       "array([[32, 12],\n",
       "       [ 4, 43]], dtype=int64)"
      ]
     },
     "execution_count": 22,
     "metadata": {},
     "output_type": "execute_result"
    }
   ],
   "source": [
    "# Making the Confusion Matrix\n",
    "from sklearn.metrics import confusion_matrix\n",
    "cm_knn = confusion_matrix(y_test, y_pred_knn)\n",
    "cm_knn"
   ]
  },
  {
   "cell_type": "code",
   "execution_count": 23,
   "metadata": {},
   "outputs": [
    {
     "data": {
      "text/plain": [
       "0.8241758241758241"
      ]
     },
     "execution_count": 23,
     "metadata": {},
     "output_type": "execute_result"
    }
   ],
   "source": [
    "knn_result = accuracy_score(y_test,y_pred_knn)\n",
    "knn_result"
   ]
  },
  {
   "cell_type": "code",
   "execution_count": 24,
   "metadata": {},
   "outputs": [
    {
     "data": {
      "text/plain": [
       "(0.7272727272727273, 0.4266666666666667)"
      ]
     },
     "execution_count": 24,
     "metadata": {},
     "output_type": "execute_result"
    }
   ],
   "source": [
    "recall_knn = cm_knn[0][0]/(cm_knn[0][0] + cm_knn[0][1])\n",
    "precision_knn = cm_knn[0][0]/(cm_knn[0][0]+cm_knn[1][1])\n",
    "recall_knn,precision_knn"
   ]
  },
  {
   "cell_type": "markdown",
   "metadata": {},
   "source": [
    "## Accuracy : 0.645\n",
    "## Recall : 0.816\n",
    "## Precision : 0.816"
   ]
  },
  {
   "cell_type": "markdown",
   "metadata": {},
   "source": [
    "### <center>Cross Validation with KFold</center>"
   ]
  },
  {
   "cell_type": "markdown",
   "metadata": {},
   "source": [
    "Cross Validation recovers from the random state difference by diving the complete data set in K parts, and iteratively learns from data.<br>\n",
    "Folds =10"
   ]
  },
  {
   "cell_type": "code",
   "execution_count": 26,
   "metadata": {
    "scrolled": false
   },
   "outputs": [
    {
     "ename": "TypeError",
     "evalue": "__init__() got an unexpected keyword argument 'n_folds'",
     "output_type": "error",
     "traceback": [
      "\u001b[1;31m---------------------------------------------------------------------------\u001b[0m",
      "\u001b[1;31mTypeError\u001b[0m                                 Traceback (most recent call last)",
      "\u001b[1;32m<ipython-input-26-ad101df44a77>\u001b[0m in \u001b[0;36m<module>\u001b[1;34m\u001b[0m\n\u001b[0;32m     21\u001b[0m         \u001b[0mprint\u001b[0m\u001b[1;33m(\u001b[0m\u001b[1;34m\"Mean Accuracy: {0}\"\u001b[0m\u001b[1;33m.\u001b[0m\u001b[0mformat\u001b[0m\u001b[1;33m(\u001b[0m\u001b[0mmean_outcome\u001b[0m\u001b[1;33m)\u001b[0m\u001b[1;33m)\u001b[0m\u001b[1;33m\u001b[0m\u001b[1;33m\u001b[0m\u001b[0m\n\u001b[0;32m     22\u001b[0m \u001b[1;33m\u001b[0m\u001b[0m\n\u001b[1;32m---> 23\u001b[1;33m \u001b[0mrun_kfold\u001b[0m\u001b[1;33m(\u001b[0m\u001b[0mknn_clf\u001b[0m\u001b[1;33m)\u001b[0m\u001b[1;33m\u001b[0m\u001b[1;33m\u001b[0m\u001b[0m\n\u001b[0m\u001b[0;32m     24\u001b[0m \u001b[1;33m\u001b[0m\u001b[0m\n",
      "\u001b[1;32m<ipython-input-26-ad101df44a77>\u001b[0m in \u001b[0;36mrun_kfold\u001b[1;34m(knn_clf)\u001b[0m\n\u001b[0;32m      4\u001b[0m \u001b[0maccuracy_list\u001b[0m \u001b[1;33m=\u001b[0m\u001b[1;33m[\u001b[0m\u001b[1;33m]\u001b[0m\u001b[1;33m\u001b[0m\u001b[1;33m\u001b[0m\u001b[0m\n\u001b[0;32m      5\u001b[0m \u001b[1;32mdef\u001b[0m \u001b[0mrun_kfold\u001b[0m\u001b[1;33m(\u001b[0m\u001b[0mknn_clf\u001b[0m\u001b[1;33m)\u001b[0m\u001b[1;33m:\u001b[0m\u001b[1;33m\u001b[0m\u001b[1;33m\u001b[0m\u001b[0m\n\u001b[1;32m----> 6\u001b[1;33m     \u001b[0mkf\u001b[0m \u001b[1;33m=\u001b[0m \u001b[0mKFold\u001b[0m\u001b[1;33m(\u001b[0m\u001b[0mn_folds\u001b[0m\u001b[1;33m=\u001b[0m\u001b[1;36m10\u001b[0m\u001b[1;33m)\u001b[0m\u001b[1;33m\u001b[0m\u001b[1;33m\u001b[0m\u001b[0m\n\u001b[0m\u001b[0;32m      7\u001b[0m     \u001b[0moutcomes\u001b[0m \u001b[1;33m=\u001b[0m \u001b[1;33m[\u001b[0m\u001b[1;33m]\u001b[0m\u001b[1;33m\u001b[0m\u001b[1;33m\u001b[0m\u001b[0m\n\u001b[0;32m      8\u001b[0m     \u001b[0mfold\u001b[0m \u001b[1;33m=\u001b[0m \u001b[1;36m0\u001b[0m\u001b[1;33m\u001b[0m\u001b[1;33m\u001b[0m\u001b[0m\n",
      "\u001b[1;31mTypeError\u001b[0m: __init__() got an unexpected keyword argument 'n_folds'"
     ]
    }
   ],
   "source": [
    "from sklearn.model_selection import KFold\n",
    "\n",
    "fold_list =[]\n",
    "accuracy_list =[]\n",
    "def run_kfold(knn_clf):\n",
    "    kf = KFold(n_folds=10)\n",
    "    outcomes = []\n",
    "    fold = 0\n",
    "    for train_index, test_index in kf:\n",
    "        fold += 1\n",
    "        X_train, X_test = X_all.values[train_index], X_all.values[test_index]\n",
    "        y_train, y_test = y_all.values[train_index], y_all.values[test_index]\n",
    "        knn_clf.fit(X_train, y_train)\n",
    "        predictions = knn_clf.predict(X_test)\n",
    "        accuracy = accuracy_score(y_test, predictions)\n",
    "        outcomes.append(accuracy)\n",
    "        print(\"Fold {0} accuracy: {1}\".format(fold, accuracy))\n",
    "        fold_list.append(fold)\n",
    "        accuracy_list.append(accuracy)\n",
    "        mean_outcome = np.mean(outcomes)\n",
    "        print(\"Mean Accuracy: {0}\".format(mean_outcome)) \n",
    "\n",
    "run_kfold(knn_clf)\n",
    "    "
   ]
  },
  {
   "cell_type": "markdown",
   "metadata": {},
   "source": [
    "Box plot of the iterative learning by K Fold in K-Nearest Neighbors"
   ]
  },
  {
   "cell_type": "code",
   "execution_count": null,
   "metadata": {},
   "outputs": [],
   "source": [
    "fold_df =pd.DataFrame({'Fold':fold_list,'Accuracy':accuracy_list}).set_index('Fold')\n",
    "fold_df.plot(kind='box',figsize=(4,6),color=color)"
   ]
  },
  {
   "cell_type": "markdown",
   "metadata": {},
   "source": [
    "### Fold 10 accuracy: 0.7586206896551724 \n",
    "### Mean Accuracy: 0.6501149425287356"
   ]
  },
  {
   "cell_type": "markdown",
   "metadata": {},
   "source": [
    "# MODEL 3 - ANN Multilayer Perceptron Classifier"
   ]
  },
  {
   "cell_type": "markdown",
   "metadata": {},
   "source": [
    "### <center> ANN implementation using Scikit learn library </center>"
   ]
  },
  {
   "cell_type": "markdown",
   "metadata": {},
   "source": [
    "Input nodes : 9<br>\n",
    "Hidden layers :2<br>\n",
    "Each hidden Layer Hold 14 neuron<br>\n",
    "Output layer : 2"
   ]
  },
  {
   "cell_type": "code",
   "execution_count": 38,
   "metadata": {},
   "outputs": [
    {
     "data": {
      "text/plain": [
       "'\\nMulti-layer Perceptron classifier.\\n\\nThis model optimizes the log-loss function using LBFGS or stochastic\\ngradient descent.\\n'"
      ]
     },
     "execution_count": 38,
     "metadata": {},
     "output_type": "execute_result"
    }
   ],
   "source": [
    "from sklearn.metrics import make_scorer, accuracy_score\n",
    "from sklearn.model_selection import GridSearchCV\n",
    "from sklearn.neural_network import MLPClassifier\n",
    "\n",
    "'''\n",
    "Multi-layer Perceptron classifier.\n",
    "\n",
    "This model optimizes the log-loss function using LBFGS or stochastic\n",
    "gradient descent.\n",
    "'''"
   ]
  },
  {
   "cell_type": "code",
   "execution_count": 53,
   "metadata": {},
   "outputs": [],
   "source": [
    "ann_clf = MLPClassifier()\n",
    "\n",
    "#when i used acitcation function not relu accuray was not goind to excedd the 76.98 when i change with it to relu it's acccuraccy increase to 80% yahooooo\n",
    "\n",
    "#The solver for weight optimization.\n",
    "'''\n",
    "\n",
    "    - 'lbfgs' is an optimizer in the family of quasi-Newton methods.\n",
    "\n",
    "    - 'sgd' refers to stochastic gradient descent.\n",
    "\n",
    "    - 'adam' refers to a stochastic gradient-based optimizer proposed\n",
    "      by Kingma, Diederik, and Jimmy Ba\n",
    "'''\n",
    "\n",
    "\n",
    "# now alpha as we know in back propagation we use it\n",
    "'''\n",
    "alpha : float, optional, default 0.0001\n",
    "    L2 penalty (regularization term) parameter.\n",
    "'''\n",
    "\n",
    "\n",
    "#echos\n",
    "'''\n",
    "max_iter : int, optional, default 200\n",
    "    Maximum number of iterations\n",
    "'''\n",
    "\n",
    "\n",
    "# now see the shuffle\n",
    "\n",
    "'''\n",
    "shuffle : bool, optional, default True\n",
    "    Whether to shuffle samples in each iteration. Only used when\n",
    "    solver='sgd' or 'adam'.\n",
    "    \n",
    "'''\n",
    "#Parameters\n",
    "parameters = {'solver': ['adam'],#lbfgs\n",
    "              'activation':['relu'],\n",
    "             'alpha':[1e-4],\n",
    "             'hidden_layer_sizes':(13,17,17,2),   # 9 input, 14-14 neuron in 2 layers,1 output layer\n",
    "              'random_state': [1]\n",
    "             }"
   ]
  },
  {
   "cell_type": "code",
   "execution_count": 54,
   "metadata": {},
   "outputs": [
    {
     "name": "stderr",
     "output_type": "stream",
     "text": [
      "C:\\Users\\Server\\Anaconda3\\lib\\site-packages\\sklearn\\model_selection\\_split.py:1978: FutureWarning: The default value of cv will change from 3 to 5 in version 0.22. Specify it explicitly to silence this warning.\n",
      "  warnings.warn(CV_WARNING, FutureWarning)\n",
      "C:\\Users\\Server\\Anaconda3\\lib\\site-packages\\sklearn\\neural_network\\multilayer_perceptron.py:566: ConvergenceWarning: Stochastic Optimizer: Maximum iterations (200) reached and the optimization hasn't converged yet.\n",
      "  % self.max_iter, ConvergenceWarning)\n",
      "C:\\Users\\Server\\Anaconda3\\lib\\site-packages\\sklearn\\neural_network\\multilayer_perceptron.py:566: ConvergenceWarning: Stochastic Optimizer: Maximum iterations (200) reached and the optimization hasn't converged yet.\n",
      "  % self.max_iter, ConvergenceWarning)\n",
      "C:\\Users\\Server\\Anaconda3\\lib\\site-packages\\sklearn\\neural_network\\multilayer_perceptron.py:566: ConvergenceWarning: Stochastic Optimizer: Maximum iterations (200) reached and the optimization hasn't converged yet.\n",
      "  % self.max_iter, ConvergenceWarning)\n",
      "C:\\Users\\Server\\Anaconda3\\lib\\site-packages\\sklearn\\neural_network\\multilayer_perceptron.py:566: ConvergenceWarning: Stochastic Optimizer: Maximum iterations (200) reached and the optimization hasn't converged yet.\n",
      "  % self.max_iter, ConvergenceWarning)\n",
      "C:\\Users\\Server\\Anaconda3\\lib\\site-packages\\sklearn\\neural_network\\multilayer_perceptron.py:566: ConvergenceWarning: Stochastic Optimizer: Maximum iterations (200) reached and the optimization hasn't converged yet.\n",
      "  % self.max_iter, ConvergenceWarning)\n",
      "C:\\Users\\Server\\Anaconda3\\lib\\site-packages\\sklearn\\neural_network\\multilayer_perceptron.py:566: ConvergenceWarning: Stochastic Optimizer: Maximum iterations (200) reached and the optimization hasn't converged yet.\n",
      "  % self.max_iter, ConvergenceWarning)\n",
      "C:\\Users\\Server\\Anaconda3\\lib\\site-packages\\sklearn\\neural_network\\multilayer_perceptron.py:566: ConvergenceWarning: Stochastic Optimizer: Maximum iterations (200) reached and the optimization hasn't converged yet.\n",
      "  % self.max_iter, ConvergenceWarning)\n",
      "C:\\Users\\Server\\Anaconda3\\lib\\site-packages\\sklearn\\neural_network\\multilayer_perceptron.py:566: ConvergenceWarning: Stochastic Optimizer: Maximum iterations (200) reached and the optimization hasn't converged yet.\n",
      "  % self.max_iter, ConvergenceWarning)\n",
      "C:\\Users\\Server\\Anaconda3\\lib\\site-packages\\sklearn\\neural_network\\multilayer_perceptron.py:566: ConvergenceWarning: Stochastic Optimizer: Maximum iterations (200) reached and the optimization hasn't converged yet.\n",
      "  % self.max_iter, ConvergenceWarning)\n",
      "C:\\Users\\Server\\Anaconda3\\lib\\site-packages\\sklearn\\neural_network\\multilayer_perceptron.py:566: ConvergenceWarning: Stochastic Optimizer: Maximum iterations (200) reached and the optimization hasn't converged yet.\n",
      "  % self.max_iter, ConvergenceWarning)\n",
      "C:\\Users\\Server\\Anaconda3\\lib\\site-packages\\sklearn\\neural_network\\multilayer_perceptron.py:566: ConvergenceWarning: Stochastic Optimizer: Maximum iterations (200) reached and the optimization hasn't converged yet.\n",
      "  % self.max_iter, ConvergenceWarning)\n",
      "C:\\Users\\Server\\Anaconda3\\lib\\site-packages\\sklearn\\neural_network\\multilayer_perceptron.py:566: ConvergenceWarning: Stochastic Optimizer: Maximum iterations (200) reached and the optimization hasn't converged yet.\n",
      "  % self.max_iter, ConvergenceWarning)\n",
      "C:\\Users\\Server\\Anaconda3\\lib\\site-packages\\sklearn\\model_selection\\_search.py:814: DeprecationWarning: The default of the `iid` parameter will change from True to False in version 0.22 and will be removed in 0.24. This will change numeric results when test-set sizes are unequal.\n",
      "  DeprecationWarning)\n",
      "C:\\Users\\Server\\Anaconda3\\lib\\site-packages\\sklearn\\neural_network\\multilayer_perceptron.py:566: ConvergenceWarning: Stochastic Optimizer: Maximum iterations (200) reached and the optimization hasn't converged yet.\n",
      "  % self.max_iter, ConvergenceWarning)\n"
     ]
    }
   ],
   "source": [
    "# Type of scoring to compare parameter combos \n",
    "acc_scorer = make_scorer(accuracy_score)\n",
    "\n",
    "# Run grid search \n",
    "grid_obj = GridSearchCV(ann_clf, parameters, scoring=acc_scorer)\n",
    "grid_obj = grid_obj.fit(X_train, y_train)\n",
    "\n",
    "# Pick the best combination of parameters\n",
    "ann_clf = grid_obj.best_estimator_"
   ]
  },
  {
   "cell_type": "code",
   "execution_count": 55,
   "metadata": {},
   "outputs": [
    {
     "name": "stderr",
     "output_type": "stream",
     "text": [
      "C:\\Users\\Server\\Anaconda3\\lib\\site-packages\\sklearn\\neural_network\\multilayer_perceptron.py:566: ConvergenceWarning: Stochastic Optimizer: Maximum iterations (200) reached and the optimization hasn't converged yet.\n",
      "  % self.max_iter, ConvergenceWarning)\n"
     ]
    },
    {
     "data": {
      "text/plain": [
       "MLPClassifier(activation='relu', alpha=0.0001, batch_size='auto', beta_1=0.9,\n",
       "              beta_2=0.999, early_stopping=False, epsilon=1e-08,\n",
       "              hidden_layer_sizes=13, learning_rate='constant',\n",
       "              learning_rate_init=0.001, max_iter=200, momentum=0.9,\n",
       "              n_iter_no_change=10, nesterovs_momentum=True, power_t=0.5,\n",
       "              random_state=1, shuffle=True, solver='adam', tol=0.0001,\n",
       "              validation_fraction=0.1, verbose=False, warm_start=False)"
      ]
     },
     "execution_count": 55,
     "metadata": {},
     "output_type": "execute_result"
    }
   ],
   "source": [
    "# Fit the best algorithm to the data \n",
    "ann_clf.fit(X_train, y_train)"
   ]
  },
  {
   "cell_type": "code",
   "execution_count": 56,
   "metadata": {},
   "outputs": [],
   "source": [
    "y_pred_ann = ann_clf.predict(X_test)"
   ]
  },
  {
   "cell_type": "code",
   "execution_count": 57,
   "metadata": {},
   "outputs": [
    {
     "data": {
      "text/plain": [
       "array([[32, 12],\n",
       "       [ 6, 41]], dtype=int64)"
      ]
     },
     "execution_count": 57,
     "metadata": {},
     "output_type": "execute_result"
    }
   ],
   "source": [
    "# Making the Confusion Matrix\n",
    "from sklearn.metrics import confusion_matrix\n",
    "cm_ann = confusion_matrix(y_test, y_pred_ann)\n",
    "cm_ann"
   ]
  },
  {
   "cell_type": "code",
   "execution_count": 58,
   "metadata": {},
   "outputs": [
    {
     "data": {
      "text/plain": [
       "0.8021978021978022"
      ]
     },
     "execution_count": 58,
     "metadata": {},
     "output_type": "execute_result"
    }
   ],
   "source": [
    "ann_result = accuracy_score(y_test,y_pred_ann)\n",
    "ann_result"
   ]
  },
  {
   "cell_type": "code",
   "execution_count": null,
   "metadata": {},
   "outputs": [],
   "source": [
    "recall_ann = cm_ann[0][0]/(cm_ann[0][0] + cm_ann[0][1])\n",
    "precision_ann = cm_ann[0][0]/(cm_ann[0][0]+cm_ann[1][1])\n",
    "recall_ann,precision_ann"
   ]
  },
  {
   "cell_type": "markdown",
   "metadata": {},
   "source": [
    "## Accuracy : 0.763\n",
    "## Recall : 0.866\n",
    "## Precision : 0.732"
   ]
  },
  {
   "cell_type": "markdown",
   "metadata": {},
   "source": [
    "### <center> ANN implementation using keras library </center>"
   ]
  },
  {
   "cell_type": "markdown",
   "metadata": {},
   "source": [
    "Sequential Model\n",
    "Input node :13\n",
    "Hidden layer :2\n",
    "Each layer hold 6 neuron"
   ]
  },
  {
   "cell_type": "code",
   "execution_count": 64,
   "metadata": {
    "scrolled": false
   },
   "outputs": [
    {
     "name": "stderr",
     "output_type": "stream",
     "text": [
      "C:\\Users\\Server\\Anaconda3\\lib\\site-packages\\ipykernel_launcher.py:9: UserWarning: Update your `Dense` call to the Keras 2 API: `Dense(activation=\"relu\", input_dim=13, units=6, kernel_initializer=\"uniform\")`\n",
      "  if __name__ == '__main__':\n",
      "C:\\Users\\Server\\Anaconda3\\lib\\site-packages\\ipykernel_launcher.py:15: UserWarning: Update your `Dense` call to the Keras 2 API: `Dense(activation=\"sigmoid\", units=1, kernel_initializer=\"uniform\")`\n",
      "  from ipykernel import kernelapp as app\n",
      "C:\\Users\\Server\\Anaconda3\\lib\\site-packages\\ipykernel_launcher.py:21: UserWarning: The `nb_epoch` argument in `fit` has been renamed `epochs`.\n"
     ]
    },
    {
     "name": "stdout",
     "output_type": "stream",
     "text": [
      "Epoch 1/100\n",
      "212/212 [==============================] - 0s 1ms/step - loss: 0.6911 - accuracy: 0.7689\n",
      "Epoch 2/100\n",
      "212/212 [==============================] - 0s 184us/step - loss: 0.6854 - accuracy: 0.8349\n",
      "Epoch 3/100\n",
      "212/212 [==============================] - 0s 205us/step - loss: 0.6741 - accuracy: 0.8396\n",
      "Epoch 4/100\n",
      "212/212 [==============================] - 0s 185us/step - loss: 0.6568 - accuracy: 0.8538\n",
      "Epoch 5/100\n",
      "212/212 [==============================] - 0s 208us/step - loss: 0.6330 - accuracy: 0.8538\n",
      "Epoch 6/100\n",
      "212/212 [==============================] - 0s 162us/step - loss: 0.6034 - accuracy: 0.8538\n",
      "Epoch 7/100\n",
      "212/212 [==============================] - 0s 210us/step - loss: 0.5723 - accuracy: 0.8491\n",
      "Epoch 8/100\n",
      "212/212 [==============================] - 0s 160us/step - loss: 0.5412 - accuracy: 0.8491\n",
      "Epoch 9/100\n",
      "212/212 [==============================] - 0s 188us/step - loss: 0.5101 - accuracy: 0.8538\n",
      "Epoch 10/100\n",
      "212/212 [==============================] - 0s 185us/step - loss: 0.4824 - accuracy: 0.8538\n",
      "Epoch 11/100\n",
      "212/212 [==============================] - 0s 182us/step - loss: 0.4583 - accuracy: 0.8585\n",
      "Epoch 12/100\n",
      "212/212 [==============================] - 0s 195us/step - loss: 0.4371 - accuracy: 0.8632\n",
      "Epoch 13/100\n",
      "212/212 [==============================] - 0s 179us/step - loss: 0.4190 - accuracy: 0.8632\n",
      "Epoch 14/100\n",
      "212/212 [==============================] - 0s 174us/step - loss: 0.4043 - accuracy: 0.8632\n",
      "Epoch 15/100\n",
      "212/212 [==============================] - 0s 205us/step - loss: 0.3913 - accuracy: 0.8632\n",
      "Epoch 16/100\n",
      "212/212 [==============================] - 0s 213us/step - loss: 0.3808 - accuracy: 0.8585\n",
      "Epoch 17/100\n",
      "212/212 [==============================] - 0s 190us/step - loss: 0.3719 - accuracy: 0.8632\n",
      "Epoch 18/100\n",
      "212/212 [==============================] - 0s 213us/step - loss: 0.3643 - accuracy: 0.8632\n",
      "Epoch 19/100\n",
      "212/212 [==============================] - 0s 209us/step - loss: 0.3579 - accuracy: 0.8679\n",
      "Epoch 20/100\n",
      "212/212 [==============================] - 0s 202us/step - loss: 0.3525 - accuracy: 0.8679\n",
      "Epoch 21/100\n",
      "212/212 [==============================] - 0s 166us/step - loss: 0.3481 - accuracy: 0.8726\n",
      "Epoch 22/100\n",
      "212/212 [==============================] - 0s 175us/step - loss: 0.3442 - accuracy: 0.8726\n",
      "Epoch 23/100\n",
      "212/212 [==============================] - 0s 189us/step - loss: 0.3410 - accuracy: 0.8726\n",
      "Epoch 24/100\n",
      "212/212 [==============================] - 0s 178us/step - loss: 0.3381 - accuracy: 0.8679\n",
      "Epoch 25/100\n",
      "212/212 [==============================] - 0s 194us/step - loss: 0.3358 - accuracy: 0.8679\n",
      "Epoch 26/100\n",
      "212/212 [==============================] - 0s 218us/step - loss: 0.3335 - accuracy: 0.8679\n",
      "Epoch 27/100\n",
      "212/212 [==============================] - 0s 199us/step - loss: 0.3315 - accuracy: 0.8679\n",
      "Epoch 28/100\n",
      "212/212 [==============================] - 0s 193us/step - loss: 0.3302 - accuracy: 0.8679\n",
      "Epoch 29/100\n",
      "212/212 [==============================] - 0s 204us/step - loss: 0.3283 - accuracy: 0.8679\n",
      "Epoch 30/100\n",
      "212/212 [==============================] - 0s 192us/step - loss: 0.3272 - accuracy: 0.8679\n",
      "Epoch 31/100\n",
      "212/212 [==============================] - 0s 221us/step - loss: 0.3263 - accuracy: 0.8679\n",
      "Epoch 32/100\n",
      "212/212 [==============================] - 0s 172us/step - loss: 0.3248 - accuracy: 0.8679\n",
      "Epoch 33/100\n",
      "212/212 [==============================] - 0s 207us/step - loss: 0.3241 - accuracy: 0.8679\n",
      "Epoch 34/100\n",
      "212/212 [==============================] - 0s 209us/step - loss: 0.3230 - accuracy: 0.8679\n",
      "Epoch 35/100\n",
      "212/212 [==============================] - 0s 185us/step - loss: 0.3218 - accuracy: 0.8679\n",
      "Epoch 36/100\n",
      "212/212 [==============================] - 0s 203us/step - loss: 0.3211 - accuracy: 0.8679\n",
      "Epoch 37/100\n",
      "212/212 [==============================] - 0s 187us/step - loss: 0.3207 - accuracy: 0.8679\n",
      "Epoch 38/100\n",
      "212/212 [==============================] - 0s 202us/step - loss: 0.3197 - accuracy: 0.8679\n",
      "Epoch 39/100\n",
      "212/212 [==============================] - 0s 171us/step - loss: 0.3198 - accuracy: 0.8679\n",
      "Epoch 40/100\n",
      "212/212 [==============================] - 0s 179us/step - loss: 0.3185 - accuracy: 0.8679\n",
      "Epoch 41/100\n",
      "212/212 [==============================] - 0s 169us/step - loss: 0.3186 - accuracy: 0.8679\n",
      "Epoch 42/100\n",
      "212/212 [==============================] - 0s 139us/step - loss: 0.3178 - accuracy: 0.8679\n",
      "Epoch 43/100\n",
      "212/212 [==============================] - 0s 197us/step - loss: 0.3177 - accuracy: 0.8632\n",
      "Epoch 44/100\n",
      "212/212 [==============================] - 0s 176us/step - loss: 0.3168 - accuracy: 0.8632\n",
      "Epoch 45/100\n",
      "212/212 [==============================] - 0s 175us/step - loss: 0.3163 - accuracy: 0.8679\n",
      "Epoch 46/100\n",
      "212/212 [==============================] - 0s 160us/step - loss: 0.3152 - accuracy: 0.8679\n",
      "Epoch 47/100\n",
      "212/212 [==============================] - 0s 183us/step - loss: 0.3151 - accuracy: 0.8679\n",
      "Epoch 48/100\n",
      "212/212 [==============================] - 0s 187us/step - loss: 0.3144 - accuracy: 0.8726\n",
      "Epoch 49/100\n",
      "212/212 [==============================] - 0s 166us/step - loss: 0.3140 - accuracy: 0.8726\n",
      "Epoch 50/100\n",
      "212/212 [==============================] - 0s 190us/step - loss: 0.3132 - accuracy: 0.8726\n",
      "Epoch 51/100\n",
      "212/212 [==============================] - 0s 187us/step - loss: 0.3128 - accuracy: 0.8726\n",
      "Epoch 52/100\n",
      "212/212 [==============================] - 0s 179us/step - loss: 0.3124 - accuracy: 0.8726\n",
      "Epoch 53/100\n",
      "212/212 [==============================] - 0s 205us/step - loss: 0.3116 - accuracy: 0.8726\n",
      "Epoch 54/100\n",
      "212/212 [==============================] - 0s 202us/step - loss: 0.3110 - accuracy: 0.8774\n",
      "Epoch 55/100\n",
      "212/212 [==============================] - 0s 175us/step - loss: 0.3108 - accuracy: 0.8774\n",
      "Epoch 56/100\n",
      "212/212 [==============================] - 0s 200us/step - loss: 0.3099 - accuracy: 0.8774\n",
      "Epoch 57/100\n",
      "212/212 [==============================] - 0s 181us/step - loss: 0.3096 - accuracy: 0.8774\n",
      "Epoch 58/100\n",
      "212/212 [==============================] - 0s 180us/step - loss: 0.3089 - accuracy: 0.8774\n",
      "Epoch 59/100\n",
      "212/212 [==============================] - 0s 194us/step - loss: 0.3090 - accuracy: 0.8774\n",
      "Epoch 60/100\n",
      "212/212 [==============================] - 0s 197us/step - loss: 0.3078 - accuracy: 0.8774\n",
      "Epoch 61/100\n",
      "212/212 [==============================] - 0s 184us/step - loss: 0.3075 - accuracy: 0.8774\n",
      "Epoch 62/100\n",
      "212/212 [==============================] - 0s 169us/step - loss: 0.3074 - accuracy: 0.8774\n",
      "Epoch 63/100\n",
      "212/212 [==============================] - 0s 196us/step - loss: 0.3070 - accuracy: 0.8774\n",
      "Epoch 64/100\n",
      "212/212 [==============================] - 0s 192us/step - loss: 0.3068 - accuracy: 0.8774\n",
      "Epoch 65/100\n",
      "212/212 [==============================] - 0s 198us/step - loss: 0.3058 - accuracy: 0.8774\n",
      "Epoch 66/100\n",
      "212/212 [==============================] - 0s 171us/step - loss: 0.3053 - accuracy: 0.8774\n",
      "Epoch 67/100\n",
      "212/212 [==============================] - 0s 176us/step - loss: 0.3051 - accuracy: 0.8774\n",
      "Epoch 68/100\n",
      "212/212 [==============================] - 0s 194us/step - loss: 0.3048 - accuracy: 0.8774\n",
      "Epoch 69/100\n",
      "212/212 [==============================] - 0s 192us/step - loss: 0.3043 - accuracy: 0.8774\n",
      "Epoch 70/100\n",
      "212/212 [==============================] - 0s 154us/step - loss: 0.3038 - accuracy: 0.8774\n",
      "Epoch 71/100\n",
      "212/212 [==============================] - 0s 173us/step - loss: 0.3037 - accuracy: 0.8774\n",
      "Epoch 72/100\n",
      "212/212 [==============================] - 0s 182us/step - loss: 0.3031 - accuracy: 0.8774\n",
      "Epoch 73/100\n",
      "212/212 [==============================] - 0s 178us/step - loss: 0.3031 - accuracy: 0.8774\n",
      "Epoch 74/100\n",
      "212/212 [==============================] - 0s 180us/step - loss: 0.3019 - accuracy: 0.8774\n",
      "Epoch 75/100\n",
      "212/212 [==============================] - 0s 183us/step - loss: 0.3021 - accuracy: 0.8774\n",
      "Epoch 76/100\n",
      "212/212 [==============================] - 0s 192us/step - loss: 0.3018 - accuracy: 0.8774\n",
      "Epoch 77/100\n",
      "212/212 [==============================] - 0s 167us/step - loss: 0.3014 - accuracy: 0.8774\n",
      "Epoch 78/100\n",
      "212/212 [==============================] - 0s 183us/step - loss: 0.3013 - accuracy: 0.8821\n",
      "Epoch 79/100\n"
     ]
    },
    {
     "name": "stdout",
     "output_type": "stream",
     "text": [
      "212/212 [==============================] - 0s 190us/step - loss: 0.3007 - accuracy: 0.8821\n",
      "Epoch 80/100\n",
      "212/212 [==============================] - 0s 162us/step - loss: 0.3003 - accuracy: 0.8821\n",
      "Epoch 81/100\n",
      "212/212 [==============================] - 0s 166us/step - loss: 0.2995 - accuracy: 0.8821\n",
      "Epoch 82/100\n",
      "212/212 [==============================] - 0s 188us/step - loss: 0.2994 - accuracy: 0.8821\n",
      "Epoch 83/100\n",
      "212/212 [==============================] - 0s 188us/step - loss: 0.2991 - accuracy: 0.8774\n",
      "Epoch 84/100\n",
      "212/212 [==============================] - 0s 195us/step - loss: 0.2988 - accuracy: 0.8821\n",
      "Epoch 85/100\n",
      "212/212 [==============================] - 0s 179us/step - loss: 0.2982 - accuracy: 0.8821\n",
      "Epoch 86/100\n",
      "212/212 [==============================] - 0s 192us/step - loss: 0.2981 - accuracy: 0.8774\n",
      "Epoch 87/100\n",
      "212/212 [==============================] - 0s 179us/step - loss: 0.2976 - accuracy: 0.8868\n",
      "Epoch 88/100\n",
      "212/212 [==============================] - 0s 169us/step - loss: 0.2969 - accuracy: 0.8868\n",
      "Epoch 89/100\n",
      "212/212 [==============================] - 0s 176us/step - loss: 0.2967 - accuracy: 0.8868\n",
      "Epoch 90/100\n",
      "212/212 [==============================] - 0s 193us/step - loss: 0.2962 - accuracy: 0.8868\n",
      "Epoch 91/100\n",
      "212/212 [==============================] - 0s 171us/step - loss: 0.2961 - accuracy: 0.8868\n",
      "Epoch 92/100\n",
      "212/212 [==============================] - 0s 190us/step - loss: 0.2953 - accuracy: 0.8868\n",
      "Epoch 93/100\n",
      "212/212 [==============================] - 0s 204us/step - loss: 0.2950 - accuracy: 0.8868\n",
      "Epoch 94/100\n",
      "212/212 [==============================] - 0s 208us/step - loss: 0.2943 - accuracy: 0.8868\n",
      "Epoch 95/100\n",
      "212/212 [==============================] - 0s 178us/step - loss: 0.2941 - accuracy: 0.8868\n",
      "Epoch 96/100\n",
      "212/212 [==============================] - 0s 186us/step - loss: 0.2936 - accuracy: 0.8868\n",
      "Epoch 97/100\n",
      "212/212 [==============================] - 0s 183us/step - loss: 0.2930 - accuracy: 0.8868\n",
      "Epoch 98/100\n",
      "212/212 [==============================] - 0s 194us/step - loss: 0.2926 - accuracy: 0.8868\n",
      "Epoch 99/100\n",
      "212/212 [==============================] - 0s 199us/step - loss: 0.2922 - accuracy: 0.8868\n",
      "Epoch 100/100\n",
      "212/212 [==============================] - 0s 178us/step - loss: 0.2915 - accuracy: 0.8868\n"
     ]
    }
   ],
   "source": [
    "import keras\n",
    "from keras.models import Sequential\n",
    "from keras.layers import Dense\n",
    "\n",
    "# Initialising the ANN\n",
    "classifier = Sequential()\n",
    "\n",
    "# Adding the input layer and the first hidden layer\n",
    "classifier.add(Dense(output_dim = 6, init = 'uniform', activation = 'relu', input_dim = 13))\n",
    "\n",
    "# Adding the second hidden layer\n",
    "#classifier.add(Dense(output_dim = 6, init = 'uniform', activation = 'relu'))\n",
    "\n",
    "# Adding the output layer\n",
    "classifier.add(Dense(output_dim = 1, init = 'uniform', activation = 'sigmoid'))\n",
    "\n",
    "# Compiling the ANN\n",
    "classifier.compile(optimizer = 'adam', loss = 'binary_crossentropy', metrics = ['accuracy'])\n",
    "\n",
    "# Fitting the ANN to the Training set\n",
    "history = classifier.fit(X_train, y_train, batch_size = 10, nb_epoch = 100)\n",
    "\n",
    "# Part 3 - Making the predictions and evaluating the model\n",
    "\n",
    "# Predicting the Test set results\n",
    "y_pred = classifier.predict(X_test)\n",
    "y_pred = (y_pred > 0.5)\n",
    "\n",
    "# Making the Confusion Matrix\n",
    "from sklearn.metrics import confusion_matrix\n",
    "cm_annk = confusion_matrix(y_test, y_pred)"
   ]
  },
  {
   "cell_type": "code",
   "execution_count": 60,
   "metadata": {},
   "outputs": [
    {
     "ename": "KeyError",
     "evalue": "'accuracy_score'",
     "output_type": "error",
     "traceback": [
      "\u001b[1;31m---------------------------------------------------------------------------\u001b[0m",
      "\u001b[1;31mKeyError\u001b[0m                                  Traceback (most recent call last)",
      "\u001b[1;32m<ipython-input-60-497df47c5b28>\u001b[0m in \u001b[0;36m<module>\u001b[1;34m\u001b[0m\n\u001b[0;32m      3\u001b[0m \u001b[1;31m# Model accuracy\u001b[0m\u001b[1;33m\u001b[0m\u001b[1;33m\u001b[0m\u001b[1;33m\u001b[0m\u001b[0m\n\u001b[0;32m      4\u001b[0m \u001b[1;33m\u001b[0m\u001b[0m\n\u001b[1;32m----> 5\u001b[1;33m \u001b[0mplt\u001b[0m\u001b[1;33m.\u001b[0m\u001b[0mplot\u001b[0m\u001b[1;33m(\u001b[0m\u001b[0mhistory\u001b[0m\u001b[1;33m.\u001b[0m\u001b[0mhistory\u001b[0m\u001b[1;33m[\u001b[0m\u001b[1;34m'accuracy_score'\u001b[0m\u001b[1;33m]\u001b[0m\u001b[1;33m)\u001b[0m\u001b[1;33m\u001b[0m\u001b[1;33m\u001b[0m\u001b[0m\n\u001b[0m\u001b[0;32m      6\u001b[0m \u001b[0mplt\u001b[0m\u001b[1;33m.\u001b[0m\u001b[0mplot\u001b[0m\u001b[1;33m(\u001b[0m\u001b[0mhistory\u001b[0m\u001b[1;33m.\u001b[0m\u001b[0mhistory\u001b[0m\u001b[1;33m[\u001b[0m\u001b[1;34m'val_acc'\u001b[0m\u001b[1;33m]\u001b[0m\u001b[1;33m)\u001b[0m\u001b[1;33m\u001b[0m\u001b[1;33m\u001b[0m\u001b[0m\n\u001b[0;32m      7\u001b[0m \u001b[0mplt\u001b[0m\u001b[1;33m.\u001b[0m\u001b[0mtitle\u001b[0m\u001b[1;33m(\u001b[0m\u001b[1;34m'Model Accuracy'\u001b[0m\u001b[1;33m)\u001b[0m\u001b[1;33m\u001b[0m\u001b[1;33m\u001b[0m\u001b[0m\n",
      "\u001b[1;31mKeyError\u001b[0m: 'accuracy_score'"
     ]
    }
   ],
   "source": [
    "import matplotlib.pyplot as plt\n",
    "%matplotlib inline\n",
    "# Model accuracy\n",
    "\n",
    "plt.plot(history.history['accuracy_score'])\n",
    "plt.plot(history.history['val_acc'])\n",
    "plt.title('Model Accuracy')\n",
    "plt.ylabel('accuracy')\n",
    "plt.xlabel('epoch')\n",
    "plt.legend(['train', 'test'])\n",
    "plt.show()"
   ]
  },
  {
   "cell_type": "markdown",
   "metadata": {},
   "source": [
    "Confusion matrix obtained from keras NN "
   ]
  },
  {
   "cell_type": "code",
   "execution_count": null,
   "metadata": {},
   "outputs": [],
   "source": [
    "cm_annk"
   ]
  },
  {
   "cell_type": "code",
   "execution_count": null,
   "metadata": {},
   "outputs": [],
   "source": [
    "recall_annk = cm_annk[0][0]/(cm_annk[0][0] + cm_annk[0][1])\n",
    "precision_annk = cm_annk[0][0]/(cm_annk[0][0]+cm_annk[1][1])\n",
    "recall_annk,precision_annk"
   ]
  },
  {
   "cell_type": "markdown",
   "metadata": {},
   "source": [
    "## Accuracy  ~  0.7317\n",
    "## Recall : 0.783\n",
    "## Precision : 0.701"
   ]
  },
  {
   "cell_type": "markdown",
   "metadata": {},
   "source": [
    "## Comparison of models"
   ]
  },
  {
   "cell_type": "code",
   "execution_count": null,
   "metadata": {},
   "outputs": [],
   "source": [
    "results ={'Accuracy': [svm_result*100,knn_result*100,ann_result*100],\n",
    "          'Recall': [recall_svm*100,recall_knn*100,recall_ann*100],\n",
    "          'Precision': [precision_svm*100,precision_knn*100,precision_ann*100]}\n",
    "index = ['SVM','KNN','ANN']"
   ]
  },
  {
   "cell_type": "code",
   "execution_count": null,
   "metadata": {},
   "outputs": [],
   "source": [
    "results =pd.DataFrame(results,index=index)"
   ]
  },
  {
   "cell_type": "markdown",
   "metadata": {},
   "source": [
    "Bar Plot of three model implemented<br>\n",
    "X axis : Models<br>\n",
    "Y axis : Values of Accuracy, Precision,Recall"
   ]
  },
  {
   "cell_type": "code",
   "execution_count": null,
   "metadata": {},
   "outputs": [],
   "source": [
    "fig =results.plot(kind='bar',title='Comaprison of models',figsize =(9,9)).get_figure()\n",
    "fig.savefig('Final Result.png')\n"
   ]
  },
  {
   "cell_type": "markdown",
   "metadata": {},
   "source": [
    "Zoomed view having lower y limit 50, higher y limit 100, for better view "
   ]
  },
  {
   "cell_type": "code",
   "execution_count": null,
   "metadata": {},
   "outputs": [],
   "source": [
    "fig =results.plot(kind='bar',title='Comaprison of models',figsize =(6,6),ylim=[50,100]).get_figure()\n",
    "fig.savefig('image.png')"
   ]
  },
  {
   "cell_type": "markdown",
   "metadata": {},
   "source": [
    "Subplot of each measure in between the models"
   ]
  },
  {
   "cell_type": "code",
   "execution_count": null,
   "metadata": {},
   "outputs": [],
   "source": [
    "results.plot(subplots=True,kind ='bar',figsize=(4,10))"
   ]
  },
  {
   "cell_type": "code",
   "execution_count": null,
   "metadata": {},
   "outputs": [],
   "source": [
    "Saving graph images\n",
    "DataFrame\n",
    "fig = class_counts.plot().get_figure()\n",
    "fig.savefig('image.png')"
   ]
  },
  {
   "cell_type": "code",
   "execution_count": null,
   "metadata": {},
   "outputs": [],
   "source": []
  },
  {
   "cell_type": "code",
   "execution_count": null,
   "metadata": {},
   "outputs": [],
   "source": []
  },
  {
   "cell_type": "code",
   "execution_count": null,
   "metadata": {},
   "outputs": [],
   "source": []
  },
  {
   "cell_type": "code",
   "execution_count": null,
   "metadata": {},
   "outputs": [],
   "source": [
    "# create X and Y datasets for training\n",
    "from sklearn import model_selection\n",
    "\n",
    "X = np.array(data.drop(['target'], 1))\n",
    "y = np.array(data['target'])\n",
    "\n",
    "X_train, X_test, y_train, y_test = model_selection.train_test_split(X, y, test_size = 0.2)"
   ]
  },
  {
   "cell_type": "code",
   "execution_count": null,
   "metadata": {},
   "outputs": [],
   "source": [
    "# convert the data to categorical labels\n",
    "from keras.utils.np_utils import to_categorical\n",
    "\n",
    "Y_train = to_categorical(y_train, num_classes=None)\n",
    "Y_test = to_categorical(y_test, num_classes=None)\n",
    "print (Y_train.shape)\n",
    "print (Y_train[:10])"
   ]
  },
  {
   "cell_type": "code",
   "execution_count": null,
   "metadata": {},
   "outputs": [],
   "source": [
    "from keras.models import Sequential\n",
    "from keras.layers import Dense\n",
    "from keras.optimizers import Adam\n",
    "\n",
    "# define a function to build the keras model\n",
    "def create_model():\n",
    "    # create model\n",
    "    model = Sequential()\n",
    "    model.add(Dense(16, input_dim=13, kernel_initializer='normal', activation='relu'))\n",
    "    model.add(Dense(8, kernel_initializer='normal', activation='relu'))\n",
    "    model.add(Dense(2, activation='softmax'))\n",
    "    \n",
    "    # compile model\n",
    "    adam = Adam(lr=0.001)\n",
    "    model.compile(loss='categorical_crossentropy', optimizer=adam, metrics=['accuracy'])\n",
    "    return model\n",
    "\n",
    "model = create_model()\n",
    "\n",
    "print(model.summary())"
   ]
  },
  {
   "cell_type": "code",
   "execution_count": null,
   "metadata": {},
   "outputs": [],
   "source": [
    "# fit the model to the training data\n",
    "history=model.fit(X_train, y_train, validation_data=(X_test, y_test),epochs=200, batch_size=10, verbose = 10)"
   ]
  },
  {
   "cell_type": "code",
   "execution_count": null,
   "metadata": {},
   "outputs": [],
   "source": []
  },
  {
   "cell_type": "code",
   "execution_count": null,
   "metadata": {},
   "outputs": [],
   "source": []
  }
 ],
 "metadata": {
  "kernelspec": {
   "display_name": "Python 3",
   "language": "python",
   "name": "python3"
  },
  "language_info": {
   "codemirror_mode": {
    "name": "ipython",
    "version": 3
   },
   "file_extension": ".py",
   "mimetype": "text/x-python",
   "name": "python",
   "nbconvert_exporter": "python",
   "pygments_lexer": "ipython3",
   "version": "3.7.3"
  }
 },
 "nbformat": 4,
 "nbformat_minor": 2
}
